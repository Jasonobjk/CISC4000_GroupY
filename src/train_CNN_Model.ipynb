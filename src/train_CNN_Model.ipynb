{
  "nbformat": 4,
  "nbformat_minor": 0,
  "metadata": {
    "colab": {
      "name": "train_CNN_Model.ipynb",
      "provenance": [],
      "collapsed_sections": []
    },
    "kernelspec": {
      "name": "python3",
      "display_name": "Python 3"
    }
  },
  "cells": [
    {
      "cell_type": "markdown",
      "metadata": {
        "id": "q4q-RgS1vqRd",
        "colab_type": "text"
      },
      "source": [
        "**DATA PATHS**"
      ]
    },
    {
      "cell_type": "code",
      "metadata": {
        "id": "yn07OzFlve9Q",
        "colab_type": "code",
        "colab": {}
      },
      "source": [
        "# Input data path\n",
        "root_d = '/content/gdrive/' # the path of parking_dataset\n",
        "\n",
        "\n",
        "orgin_dir = root_d + 'parking_dataset/'\n",
        "#orgin_dir = root_d + 'Download_data_example_1/'\n",
        "train_dir = orgin_dir + \"CNR-EXT-Patches-150x150/train_small\"\n",
        "validation_dir = orgin_dir + \"CNR-EXT-Patches-150x150/validation_small\"\n",
        "test_dir = orgin_dir + \"CNR-EXT-Patches-150x150/test_small\""
      ],
      "execution_count": 0,
      "outputs": []
    },
    {
      "cell_type": "markdown",
      "metadata": {
        "id": "Ra8a5QanXF_4",
        "colab_type": "text"
      },
      "source": [
        "# Building Classifly Model"
      ]
    },
    {
      "cell_type": "markdown",
      "metadata": {
        "id": "hbFnMrFQlWYG",
        "colab_type": "text"
      },
      "source": [
        "### Our new Model"
      ]
    },
    {
      "cell_type": "code",
      "metadata": {
        "id": "y1AMJt7vuox4",
        "colab_type": "code",
        "colab": {}
      },
      "source": [
        "### ------------------------ start Define loss function ------------------------\n",
        "import dill\n",
        "import tensorflow as tf\n",
        "from keras import backend as K\n",
        "\n",
        "def binary_focal_loss(gamma=2., alpha=.25):\n",
        "    \"\"\"\n",
        "    model.compile(loss=[binary_focal_loss(alpha=.25, gamma=2)], optimizer=optimizer=optimizers.RMSprop(lr=1e-4), metrics=[\"acc\"])\n",
        "    \"\"\"\n",
        "    def binary_focal_loss_fixed(y_true, y_pred):\n",
        "        pt_1 = tf.where(tf.equal(y_true, 1), y_pred, tf.ones_like(y_pred))\n",
        "        pt_0 = tf.where(tf.equal(y_true, 0), y_pred, tf.zeros_like(y_pred))\n",
        "\n",
        "        epsilon = K.epsilon()\n",
        "        # Clip to prevent NaN's and Inf's\n",
        "        pt_1 = K.clip(pt_1, epsilon, 1. - epsilon)\n",
        "        pt_0 = K.clip(pt_0, epsilon, 1. - epsilon)\n",
        "        return -K.mean(alpha * K.pow(1. - pt_1, gamma) * K.log(pt_1)) \\\n",
        "               -K.mean((1 - alpha) * K.pow(pt_0, gamma) * K.log(1. - pt_0))\n",
        "    return binary_focal_loss_fixed\n",
        "### ------------------------ end Define loss function ------------------------"
      ],
      "execution_count": 0,
      "outputs": []
    },
    {
      "cell_type": "code",
      "metadata": {
        "id": "O4NFLpbGlYV_",
        "colab_type": "code",
        "outputId": "a23ae03d-8694-4a1e-d497-62cf5c51c58b",
        "colab": {
          "base_uri": "https://localhost:8080/",
          "height": 969
        }
      },
      "source": [
        "# building network\n",
        "import tensorflow as tf\n",
        "from tensorflow import keras\n",
        "from tensorflow.keras import layers\n",
        "from tensorflow.keras.models import Sequential, load_model\n",
        "from tensorflow.keras import optimizers\n",
        "\n",
        "model = tf.keras.Sequential()\n",
        "model.add(layers.Conv2D(32, (3, 3), activation='relu', input_shape=(150, 150, 3)))            \n",
        "model.add(layers.BatchNormalization())\n",
        "model.add(layers.MaxPooling2D((2, 2)))\n",
        "\n",
        "model.add(layers.Conv2D(64, (3, 3), activation='relu'))\n",
        "model.add(layers.BatchNormalization())\n",
        "model.add(layers.MaxPooling2D((2, 2)))\n",
        "\n",
        "model.add(layers.Conv2D(128, (3, 3), activation='relu'))\n",
        "model.add(layers.BatchNormalization())\n",
        "model.add(layers.MaxPooling2D((2, 2)))\n",
        "model.add(layers.ZeroPadding2D(padding=(1, 1), data_format=None))\n",
        "\n",
        "model.add(layers.Conv2D(128, (3, 3), activation='relu'))\n",
        "model.add(layers.BatchNormalization())\n",
        "model.add(layers.MaxPooling2D((2, 2)))\n",
        "model.add(layers.ZeroPadding2D(padding=(1, 1), data_format=None))\n",
        "\n",
        "model.add(layers.Conv2D(256, (3, 3), activation='relu'))\n",
        "model.add(layers.BatchNormalization())\n",
        "model.add(layers.MaxPooling2D((2, 2)))\n",
        "\n",
        "model.add(layers.Conv2D(256, (3, 3), activation='relu'))\n",
        "model.add(layers.BatchNormalization())\n",
        "model.add(layers.MaxPooling2D((2, 2)))\n",
        "\n",
        "model.add(layers.Flatten())\n",
        "model.add(layers.Dense(512, activation='relu'))\n",
        "model.add(layers.Dropout(0.5, noise_shape = None, seed = None))\n",
        "model.add(layers.Dense(1, activation='sigmoid'))\n",
        "model.compile(loss=[binary_focal_loss(alpha=.45, gamma=1.5)],\n",
        "              optimizer=optimizers.RMSprop(lr=1e-4),\n",
        "              metrics=['acc'])\n",
        "model.summary()"
      ],
      "execution_count": 0,
      "outputs": [
        {
          "output_type": "stream",
          "text": [
            "Model: \"sequential\"\n",
            "_________________________________________________________________\n",
            "Layer (type)                 Output Shape              Param #   \n",
            "=================================================================\n",
            "conv2d (Conv2D)              (None, 148, 148, 32)      896       \n",
            "_________________________________________________________________\n",
            "batch_normalization (BatchNo (None, 148, 148, 32)      128       \n",
            "_________________________________________________________________\n",
            "max_pooling2d (MaxPooling2D) (None, 74, 74, 32)        0         \n",
            "_________________________________________________________________\n",
            "conv2d_1 (Conv2D)            (None, 72, 72, 64)        18496     \n",
            "_________________________________________________________________\n",
            "batch_normalization_1 (Batch (None, 72, 72, 64)        256       \n",
            "_________________________________________________________________\n",
            "max_pooling2d_1 (MaxPooling2 (None, 36, 36, 64)        0         \n",
            "_________________________________________________________________\n",
            "conv2d_2 (Conv2D)            (None, 34, 34, 128)       73856     \n",
            "_________________________________________________________________\n",
            "batch_normalization_2 (Batch (None, 34, 34, 128)       512       \n",
            "_________________________________________________________________\n",
            "max_pooling2d_2 (MaxPooling2 (None, 17, 17, 128)       0         \n",
            "_________________________________________________________________\n",
            "zero_padding2d (ZeroPadding2 (None, 19, 19, 128)       0         \n",
            "_________________________________________________________________\n",
            "conv2d_3 (Conv2D)            (None, 17, 17, 128)       147584    \n",
            "_________________________________________________________________\n",
            "batch_normalization_3 (Batch (None, 17, 17, 128)       512       \n",
            "_________________________________________________________________\n",
            "max_pooling2d_3 (MaxPooling2 (None, 8, 8, 128)         0         \n",
            "_________________________________________________________________\n",
            "zero_padding2d_1 (ZeroPaddin (None, 10, 10, 128)       0         \n",
            "_________________________________________________________________\n",
            "conv2d_4 (Conv2D)            (None, 8, 8, 256)         295168    \n",
            "_________________________________________________________________\n",
            "batch_normalization_4 (Batch (None, 8, 8, 256)         1024      \n",
            "_________________________________________________________________\n",
            "max_pooling2d_4 (MaxPooling2 (None, 4, 4, 256)         0         \n",
            "_________________________________________________________________\n",
            "conv2d_5 (Conv2D)            (None, 2, 2, 256)         590080    \n",
            "_________________________________________________________________\n",
            "batch_normalization_5 (Batch (None, 2, 2, 256)         1024      \n",
            "_________________________________________________________________\n",
            "max_pooling2d_5 (MaxPooling2 (None, 1, 1, 256)         0         \n",
            "_________________________________________________________________\n",
            "flatten (Flatten)            (None, 256)               0         \n",
            "_________________________________________________________________\n",
            "dense (Dense)                (None, 512)               131584    \n",
            "_________________________________________________________________\n",
            "dropout (Dropout)            (None, 512)               0         \n",
            "_________________________________________________________________\n",
            "dense_1 (Dense)              (None, 1)                 513       \n",
            "=================================================================\n",
            "Total params: 1,261,633\n",
            "Trainable params: 1,259,905\n",
            "Non-trainable params: 1,728\n",
            "_________________________________________________________________\n"
          ],
          "name": "stdout"
        }
      ]
    },
    {
      "cell_type": "markdown",
      "metadata": {
        "id": "Ub7Lr2PRXAyl",
        "colab_type": "text"
      },
      "source": [
        "# Training model"
      ]
    },
    {
      "cell_type": "code",
      "metadata": {
        "id": "2Bg8Rq6vW95d",
        "colab_type": "code",
        "outputId": "e8471ea4-b521-4d92-bff0-73b8fbf7dccf",
        "colab": {
          "base_uri": "https://localhost:8080/",
          "height": 51
        }
      },
      "source": [
        "# Data Preprocessing\n",
        "from keras.preprocessing.image import ImageDataGenerator\n",
        "\n",
        "# the path of train dataset with generated images\n",
        "train_dir = save_path + 'train'\n",
        "\n",
        "# All images will be rescaled by 1./255\n",
        "train_datagen = ImageDataGenerator(rescale=1./255)\n",
        "validation_datagen = ImageDataGenerator(rescale=1./255)\n",
        "\n",
        "train_generator = train_datagen.flow_from_directory(\n",
        "        # This is the target directory\n",
        "        train_dir,\n",
        "        # All images will be resized to 150x150\n",
        "        target_size=(150, 150),\n",
        "        batch_size=20,#20\n",
        "        # Since we use binary_crossentropy loss, we need binary labels\n",
        "        class_mode='binary')\n",
        "\n",
        "validation_generator = validation_datagen.flow_from_directory(\n",
        "        validation_dir,\n",
        "        target_size=(150, 150),\n",
        "        batch_size=20,#20\n",
        "        class_mode='binary')"
      ],
      "execution_count": 0,
      "outputs": [
        {
          "output_type": "stream",
          "text": [
            "Found 5000 images belonging to 2 classes.\n",
            "Found 1000 images belonging to 2 classes.\n"
          ],
          "name": "stdout"
        }
      ]
    },
    {
      "cell_type": "code",
      "metadata": {
        "id": "sGuCu-y70pTQ",
        "colab_type": "code",
        "outputId": "8f1e4788-61d9-4d47-ab9c-c779914e1ec0",
        "colab": {
          "base_uri": "https://localhost:8080/",
          "height": 751
        }
      },
      "source": [
        "from keras.layers import Dense, Conv2D, MaxPooling2D, BatchNormalization, GlobalAveragePooling2D\n",
        "from tensorflow.python.keras.callbacks import EarlyStopping, ModelCheckpoint\n",
        "from keras import models\n",
        "from keras.applications.vgg16 import preprocess_input\n",
        "from keras.preprocessing.image import ImageDataGenerator\n",
        "import matplotlib.pyplot as plt\n",
        "from keras.models import load_model\n",
        "import numpy as np\n",
        "import time\n",
        "from glob import glob\n",
        "# Perform the training (fit the model with train and validation data)\n",
        "def num_of_train_steps(path, batch_size):\n",
        "    num = glob(path + '/busy/*')\n",
        "    num += glob(path + '/free/*')\n",
        "    return int(len(num)/batch_size)\n",
        "    \n",
        "model_name = '/content/gdrive/65test.h5'\n",
        "\n",
        "# Set the model saving settings\n",
        "# while val_acc not improve in 5 epoches, it will be stop immediately\n",
        "es = EarlyStopping(monitor='val_loss', mode='min', verbose=1, patience=5) \n",
        "# Only save the best val_acc model\n",
        "mc = ModelCheckpoint(model_name, monitor='val_acc', verbose=1, save_best_only=True,\n",
        "                            save_weights_only=False, mode='auto', period=1)\n",
        "cb_list = [mc, es]\n",
        "\n",
        "starttime = time.time()\n",
        "history = model.fit_generator(\n",
        "      train_generator,\n",
        "      steps_per_epoch= num_of_train_steps(train_dir, 20), # 5000/20=250\n",
        "      epochs=10,\n",
        "      validation_data=validation_generator,\n",
        "      validation_steps=50,\n",
        "      callbacks=cb_list) # 1000/20=50\n",
        "print('Total time: %s (min)'%str((time.time()-starttime)/60.))"
      ],
      "execution_count": 0,
      "outputs": [
        {
          "output_type": "stream",
          "text": [
            "WARNING:tensorflow:`period` argument is deprecated. Please use `save_freq` to specify the frequency in number of batches seen.\n",
            "WARNING:tensorflow:From <ipython-input-15-98b45ee97a44>:33: Model.fit_generator (from tensorflow.python.keras.engine.training) is deprecated and will be removed in a future version.\n",
            "Instructions for updating:\n",
            "Please use Model.fit, which supports generators.\n",
            "Epoch 1/10\n",
            "250/250 [==============================] - ETA: 0s - loss: 0.0483 - acc: 0.9156 \n",
            "Epoch 00001: val_acc improved from -inf to 0.28200, saving model to /content/gdrive/65test.h5\n",
            "250/250 [==============================] - 5014s 20s/step - loss: 0.0483 - acc: 0.9156 - val_loss: 0.7169 - val_acc: 0.2820\n",
            "Epoch 2/10\n",
            "250/250 [==============================] - ETA: 0s - loss: 0.0334 - acc: 0.9454\n",
            "Epoch 00002: val_acc improved from 0.28200 to 0.90400, saving model to /content/gdrive/65test.h5\n",
            "250/250 [==============================] - 15s 60ms/step - loss: 0.0334 - acc: 0.9454 - val_loss: 0.0482 - val_acc: 0.9040\n",
            "Epoch 3/10\n",
            "250/250 [==============================] - ETA: 0s - loss: 0.0261 - acc: 0.9564\n",
            "Epoch 00003: val_acc improved from 0.90400 to 0.96500, saving model to /content/gdrive/65test.h5\n",
            "250/250 [==============================] - 14s 56ms/step - loss: 0.0261 - acc: 0.9564 - val_loss: 0.0237 - val_acc: 0.9650\n",
            "Epoch 4/10\n",
            "249/250 [============================>.] - ETA: 0s - loss: 0.0221 - acc: 0.9643\n",
            "Epoch 00004: val_acc improved from 0.96500 to 0.96900, saving model to /content/gdrive/65test.h5\n",
            "250/250 [==============================] - 15s 59ms/step - loss: 0.0220 - acc: 0.9644 - val_loss: 0.0233 - val_acc: 0.9690\n",
            "Epoch 5/10\n",
            "250/250 [==============================] - ETA: 0s - loss: 0.0199 - acc: 0.9706\n",
            "Epoch 00005: val_acc did not improve from 0.96900\n",
            "250/250 [==============================] - 14s 57ms/step - loss: 0.0199 - acc: 0.9706 - val_loss: 0.0259 - val_acc: 0.9630\n",
            "Epoch 6/10\n",
            "250/250 [==============================] - ETA: 0s - loss: 0.0178 - acc: 0.9666\n",
            "Epoch 00006: val_acc did not improve from 0.96900\n",
            "250/250 [==============================] - 13s 53ms/step - loss: 0.0178 - acc: 0.9666 - val_loss: 0.0249 - val_acc: 0.9670\n",
            "Epoch 7/10\n",
            "249/250 [============================>.] - ETA: 0s - loss: 0.0160 - acc: 0.9731\n",
            "Epoch 00007: val_acc did not improve from 0.96900\n",
            "250/250 [==============================] - 14s 54ms/step - loss: 0.0159 - acc: 0.9730 - val_loss: 0.0340 - val_acc: 0.9570\n",
            "Epoch 8/10\n",
            "250/250 [==============================] - ETA: 0s - loss: 0.0135 - acc: 0.9774\n",
            "Epoch 00008: val_acc improved from 0.96900 to 0.97000, saving model to /content/gdrive/65test.h5\n",
            "250/250 [==============================] - 14s 57ms/step - loss: 0.0135 - acc: 0.9774 - val_loss: 0.0263 - val_acc: 0.9700\n",
            "Epoch 9/10\n",
            "249/250 [============================>.] - ETA: 0s - loss: 0.0124 - acc: 0.9805\n",
            "Epoch 00009: val_acc did not improve from 0.97000\n",
            "250/250 [==============================] - 14s 55ms/step - loss: 0.0124 - acc: 0.9806 - val_loss: 0.0246 - val_acc: 0.9700\n",
            "Epoch 00009: early stopping\n",
            "Total time: 86.19055066903432 (min)\n"
          ],
          "name": "stdout"
        }
      ]
    },
    {
      "cell_type": "code",
      "metadata": {
        "id": "3noWFJiu0fg1",
        "colab_type": "code",
        "outputId": "093deb2d-cbac-414a-f5c4-8d0955919d18",
        "colab": {
          "base_uri": "https://localhost:8080/",
          "height": 545
        }
      },
      "source": [
        "# Plot the accuracies and losses in model training\n",
        "acc = history.history['acc']\n",
        "val_acc = history.history['val_acc']\n",
        "loss = history.history['loss']\n",
        "val_loss = history.history['val_loss']\n",
        "epochs = range(len(acc))\n",
        "plt.plot(epochs, acc, 'bo', label='Training acc')\n",
        "plt.plot(epochs, val_acc, 'b', label='Validation acc')\n",
        "plt.title('Training and validation accuracy')\n",
        "plt.legend()\n",
        "plt.figure()\n",
        "plt.plot(epochs, loss, 'bo', label='Training loss')\n",
        "plt.plot(epochs, val_loss, 'b', label='Validation loss')\n",
        "plt.title('Training and validation loss')\n",
        "plt.legend()\n",
        "plt.show()"
      ],
      "execution_count": 0,
      "outputs": [
        {
          "output_type": "display_data",
          "data": {
            "image/png": "[encoded data removed]",
            "text/plain": [
              "<Figure size 432x288 with 1 Axes>"
            ]
          },
          "metadata": {
            "tags": [],
            "needs_background": "light"
          }
        },
        {
          "output_type": "display_data",
          "data": {
            "image/png": "[encoded data removed]",
            "text/plain": [
              "<Figure size 432x288 with 1 Axes>"
            ]
          },
          "metadata": {
            "tags": [],
            "needs_background": "light"
          }
        }
      ]
    }
  ]
}